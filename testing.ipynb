{
 "cells": [
  {
   "cell_type": "code",
   "execution_count": 37,
   "metadata": {},
   "outputs": [],
   "source": [
    "from hvacmeter import *\n",
    "from sparqlwrapper_brick import BrickEndpoint\n",
    "import matplotlib.pyplot as plt\n",
    "import pandas as pd                                                             \n",
    "import numpy as np\n",
    "import statsmodels.api as sm"
   ]
  },
  {
   "cell_type": "code",
   "execution_count": 38,
   "metadata": {},
   "outputs": [
    {
     "name": "stderr",
     "output_type": "stream",
     "text": [
      "C:\\Users\\bk\\Anaconda3\\lib\\site-packages\\SPARQLWrapper\\Wrapper.py:585: RuntimeWarning: Sending Accept header '*/*' because unexpected returned format 'json' in a 'LOAD' SPARQL query form\n",
      "  warnings.warn(\"Sending Accept header '*/*' because unexpected returned format '%s' in a '%s' SPARQL query form\" % (self.returnFormat, self.queryType), RuntimeWarning)\n"
     ]
    }
   ],
   "source": [
    "# Init Brick interface and the learner\n",
    "brick_endpoint = BrickEndpoint('http://132.239.10.197:8890/sparql', '1.0.2')\n",
    "hvacmeter = HvacMeter('ebu3b', brick_endpoint)"
   ]
  },
  {
   "cell_type": "code",
   "execution_count": 12,
   "metadata": {},
   "outputs": [
    {
     "name": "stdout",
     "output_type": "stream",
     "text": [
      "{'?cwf': 'http://ucsd.edu/building/ontology/ebu3b#EBU3B_Chilled_Water_Flow_Sensor', '?cwst': 'http://ucsd.edu/building/ontology/ebu3b#EBU3B_Chilled_Water_Supply_Temperature_Sensor', '?cwrt': 'http://ucsd.edu/building/ontology/ebu3b#EBU3B_Chilled_Water_Return_Temperature_Sensor'}\n"
     ]
    },
    {
     "data": {
      "text/html": [
       "<div>\n",
       "<style>\n",
       "    .dataframe thead tr:only-child th {\n",
       "        text-align: right;\n",
       "    }\n",
       "\n",
       "    .dataframe thead th {\n",
       "        text-align: left;\n",
       "    }\n",
       "\n",
       "    .dataframe tbody tr th {\n",
       "        vertical-align: top;\n",
       "    }\n",
       "</style>\n",
       "<table border=\"1\" class=\"dataframe\">\n",
       "  <thead>\n",
       "    <tr style=\"text-align: right;\">\n",
       "      <th></th>\n",
       "      <th>Q_ahu_cooling_power</th>\n",
       "      <th>Q_vav_cooling_power</th>\n",
       "      <th>Q_ahu_returned_power</th>\n",
       "      <th>water_thermal_power</th>\n",
       "      <th>C3</th>\n",
       "    </tr>\n",
       "  </thead>\n",
       "  <tbody>\n",
       "    <tr>\n",
       "      <th>2018-04-06 00:00:00+00:00</th>\n",
       "      <td>None</td>\n",
       "      <td>None</td>\n",
       "      <td>None</td>\n",
       "      <td>864.348382</td>\n",
       "      <td>1</td>\n",
       "    </tr>\n",
       "    <tr>\n",
       "      <th>2018-04-06 00:05:00+00:00</th>\n",
       "      <td>None</td>\n",
       "      <td>None</td>\n",
       "      <td>None</td>\n",
       "      <td>777.715859</td>\n",
       "      <td>1</td>\n",
       "    </tr>\n",
       "    <tr>\n",
       "      <th>2018-04-06 00:10:00+00:00</th>\n",
       "      <td>None</td>\n",
       "      <td>None</td>\n",
       "      <td>None</td>\n",
       "      <td>755.051901</td>\n",
       "      <td>1</td>\n",
       "    </tr>\n",
       "    <tr>\n",
       "      <th>2018-04-06 00:15:00+00:00</th>\n",
       "      <td>None</td>\n",
       "      <td>None</td>\n",
       "      <td>None</td>\n",
       "      <td>761.283726</td>\n",
       "      <td>1</td>\n",
       "    </tr>\n",
       "    <tr>\n",
       "      <th>2018-04-06 00:20:00+00:00</th>\n",
       "      <td>None</td>\n",
       "      <td>None</td>\n",
       "      <td>None</td>\n",
       "      <td>824.022524</td>\n",
       "      <td>1</td>\n",
       "    </tr>\n",
       "  </tbody>\n",
       "</table>\n",
       "</div>"
      ],
      "text/plain": [
       "                          Q_ahu_cooling_power Q_vav_cooling_power  \\\n",
       "2018-04-06 00:00:00+00:00                None                None   \n",
       "2018-04-06 00:05:00+00:00                None                None   \n",
       "2018-04-06 00:10:00+00:00                None                None   \n",
       "2018-04-06 00:15:00+00:00                None                None   \n",
       "2018-04-06 00:20:00+00:00                None                None   \n",
       "\n",
       "                          Q_ahu_returned_power  water_thermal_power  C3  \n",
       "2018-04-06 00:00:00+00:00                 None           864.348382   1  \n",
       "2018-04-06 00:05:00+00:00                 None           777.715859   1  \n",
       "2018-04-06 00:10:00+00:00                 None           755.051901   1  \n",
       "2018-04-06 00:15:00+00:00                 None           761.283726   1  \n",
       "2018-04-06 00:20:00+00:00                 None           824.022524   1  "
      ]
     },
     "execution_count": 12,
     "metadata": {},
     "output_type": "execute_result"
    }
   ],
   "source": [
    "# Read water meters\n",
    "points = hvacmeter.get_chilled_water_sensors()\n",
    "print(points)\n",
    "cwrt = hvacmeter.get_point_data(points['?cwrt'])\n",
    "cwst = hvacmeter.get_point_data(points['?cwst'])\n",
    "cwf = hvacmeter.get_point_data(points['?cwf'])\n",
    "hvacmeter.df['water_thermal_power'] = cwf.multiply(cwrt - cwst)\n",
    "hvacmeter.df.head()"
   ]
  },
  {
   "cell_type": "code",
   "execution_count": 18,
   "metadata": {},
   "outputs": [],
   "source": [
    "# Caculate AHU returned thermal data.\n",
    "ahus = hvacmeter.get_ahus()\n",
    "ahu = ahus[0]\n",
    "daf = hvacmeter.get_ahu_disch_airflow(ahu)\n",
    "ahu_points = hvacmeter.get_ahu_points(ahu)\n",
    "rat = hvacmeter.get_point_data(ahu_points['?rat'])\n",
    "mat = hvacmeter.get_point_data(ahu_points['?mat'])\n",
    "power = daf.multiply(rat - mat)\n",
    "hvacmeter.df['Q_ahu_returned_power'] = power"
   ]
  },
  {
   "cell_type": "code",
   "execution_count": 20,
   "metadata": {},
   "outputs": [
    {
     "data": {
      "text/html": [
       "<div>\n",
       "<style>\n",
       "    .dataframe thead tr:only-child th {\n",
       "        text-align: right;\n",
       "    }\n",
       "\n",
       "    .dataframe thead th {\n",
       "        text-align: left;\n",
       "    }\n",
       "\n",
       "    .dataframe tbody tr th {\n",
       "        vertical-align: top;\n",
       "    }\n",
       "</style>\n",
       "<table border=\"1\" class=\"dataframe\">\n",
       "  <thead>\n",
       "    <tr style=\"text-align: right;\">\n",
       "      <th></th>\n",
       "      <th>Q_ahu_cooling_power</th>\n",
       "      <th>Q_vav_cooling_power</th>\n",
       "      <th>Q_ahu_returned_power</th>\n",
       "      <th>water_thermal_power</th>\n",
       "      <th>C3</th>\n",
       "    </tr>\n",
       "  </thead>\n",
       "  <tbody>\n",
       "    <tr>\n",
       "      <th>2018-04-06 00:00:00+00:00</th>\n",
       "      <td>None</td>\n",
       "      <td>None</td>\n",
       "      <td>23104.509364</td>\n",
       "      <td>864.348382</td>\n",
       "      <td>1</td>\n",
       "    </tr>\n",
       "    <tr>\n",
       "      <th>2018-04-06 00:05:00+00:00</th>\n",
       "      <td>None</td>\n",
       "      <td>None</td>\n",
       "      <td>23784.430274</td>\n",
       "      <td>777.715859</td>\n",
       "      <td>1</td>\n",
       "    </tr>\n",
       "    <tr>\n",
       "      <th>2018-04-06 00:10:00+00:00</th>\n",
       "      <td>None</td>\n",
       "      <td>None</td>\n",
       "      <td>24082.937156</td>\n",
       "      <td>755.051901</td>\n",
       "      <td>1</td>\n",
       "    </tr>\n",
       "    <tr>\n",
       "      <th>2018-04-06 00:15:00+00:00</th>\n",
       "      <td>None</td>\n",
       "      <td>None</td>\n",
       "      <td>24141.604884</td>\n",
       "      <td>761.283726</td>\n",
       "      <td>1</td>\n",
       "    </tr>\n",
       "    <tr>\n",
       "      <th>2018-04-06 00:20:00+00:00</th>\n",
       "      <td>None</td>\n",
       "      <td>None</td>\n",
       "      <td>23320.601457</td>\n",
       "      <td>824.022524</td>\n",
       "      <td>1</td>\n",
       "    </tr>\n",
       "  </tbody>\n",
       "</table>\n",
       "</div>"
      ],
      "text/plain": [
       "                          Q_ahu_cooling_power Q_vav_cooling_power  \\\n",
       "2018-04-06 00:00:00+00:00                None                None   \n",
       "2018-04-06 00:05:00+00:00                None                None   \n",
       "2018-04-06 00:10:00+00:00                None                None   \n",
       "2018-04-06 00:15:00+00:00                None                None   \n",
       "2018-04-06 00:20:00+00:00                None                None   \n",
       "\n",
       "                           Q_ahu_returned_power  water_thermal_power  C3  \n",
       "2018-04-06 00:00:00+00:00          23104.509364           864.348382   1  \n",
       "2018-04-06 00:05:00+00:00          23784.430274           777.715859   1  \n",
       "2018-04-06 00:10:00+00:00          24082.937156           755.051901   1  \n",
       "2018-04-06 00:15:00+00:00          24141.604884           761.283726   1  \n",
       "2018-04-06 00:20:00+00:00          23320.601457           824.022524   1  "
      ]
     },
     "execution_count": 20,
     "metadata": {},
     "output_type": "execute_result"
    }
   ],
   "source": [
    "hvacmeter.df.head()"
   ]
  },
  {
   "cell_type": "code",
   "execution_count": 25,
   "metadata": {},
   "outputs": [],
   "source": [
    "# Caculate power per VAV.\n",
    "point_sets = hvacmeter.get_vavs_points(ahu)\n",
    "powers = [hvacmeter.calc_vav_cooling_power(points) for points in list(point_sets.values())[0:hvacmeter.max_vav_num]]"
   ]
  },
  {
   "cell_type": "code",
   "execution_count": 26,
   "metadata": {
    "collapsed": true
   },
   "outputs": [],
   "source": [
    "#Sum up the VAV powers\n",
    "none_cnt = sum([not isinstance(power, pd.Series) for power in powers])\n",
    "powers_sum = sum([power for power in powers if isinstance(power, pd.Series)]) * len(powers) / (len(powers) - none_cnt)\n",
    "hvacmeter.df['Q_vav_cooling_power'] = powers_sum"
   ]
  },
  {
   "cell_type": "code",
   "execution_count": 27,
   "metadata": {},
   "outputs": [
    {
     "data": {
      "text/html": [
       "<div>\n",
       "<style>\n",
       "    .dataframe thead tr:only-child th {\n",
       "        text-align: right;\n",
       "    }\n",
       "\n",
       "    .dataframe thead th {\n",
       "        text-align: left;\n",
       "    }\n",
       "\n",
       "    .dataframe tbody tr th {\n",
       "        vertical-align: top;\n",
       "    }\n",
       "</style>\n",
       "<table border=\"1\" class=\"dataframe\">\n",
       "  <thead>\n",
       "    <tr style=\"text-align: right;\">\n",
       "      <th></th>\n",
       "      <th>Q_ahu_cooling_power</th>\n",
       "      <th>Q_vav_cooling_power</th>\n",
       "      <th>Q_ahu_returned_power</th>\n",
       "      <th>water_thermal_power</th>\n",
       "      <th>C3</th>\n",
       "    </tr>\n",
       "  </thead>\n",
       "  <tbody>\n",
       "    <tr>\n",
       "      <th>2018-04-06 00:00:00+00:00</th>\n",
       "      <td>None</td>\n",
       "      <td>15959.835549</td>\n",
       "      <td>23104.509364</td>\n",
       "      <td>864.348382</td>\n",
       "      <td>1</td>\n",
       "    </tr>\n",
       "    <tr>\n",
       "      <th>2018-04-06 00:05:00+00:00</th>\n",
       "      <td>None</td>\n",
       "      <td>16431.331521</td>\n",
       "      <td>23784.430274</td>\n",
       "      <td>777.715859</td>\n",
       "      <td>1</td>\n",
       "    </tr>\n",
       "    <tr>\n",
       "      <th>2018-04-06 00:10:00+00:00</th>\n",
       "      <td>None</td>\n",
       "      <td>18047.347960</td>\n",
       "      <td>24082.937156</td>\n",
       "      <td>755.051901</td>\n",
       "      <td>1</td>\n",
       "    </tr>\n",
       "    <tr>\n",
       "      <th>2018-04-06 00:15:00+00:00</th>\n",
       "      <td>None</td>\n",
       "      <td>17783.189148</td>\n",
       "      <td>24141.604884</td>\n",
       "      <td>761.283726</td>\n",
       "      <td>1</td>\n",
       "    </tr>\n",
       "    <tr>\n",
       "      <th>2018-04-06 00:20:00+00:00</th>\n",
       "      <td>None</td>\n",
       "      <td>17752.485120</td>\n",
       "      <td>23320.601457</td>\n",
       "      <td>824.022524</td>\n",
       "      <td>1</td>\n",
       "    </tr>\n",
       "  </tbody>\n",
       "</table>\n",
       "</div>"
      ],
      "text/plain": [
       "                          Q_ahu_cooling_power  Q_vav_cooling_power  \\\n",
       "2018-04-06 00:00:00+00:00                None         15959.835549   \n",
       "2018-04-06 00:05:00+00:00                None         16431.331521   \n",
       "2018-04-06 00:10:00+00:00                None         18047.347960   \n",
       "2018-04-06 00:15:00+00:00                None         17783.189148   \n",
       "2018-04-06 00:20:00+00:00                None         17752.485120   \n",
       "\n",
       "                           Q_ahu_returned_power  water_thermal_power  C3  \n",
       "2018-04-06 00:00:00+00:00          23104.509364           864.348382   1  \n",
       "2018-04-06 00:05:00+00:00          23784.430274           777.715859   1  \n",
       "2018-04-06 00:10:00+00:00          24082.937156           755.051901   1  \n",
       "2018-04-06 00:15:00+00:00          24141.604884           761.283726   1  \n",
       "2018-04-06 00:20:00+00:00          23320.601457           824.022524   1  "
      ]
     },
     "execution_count": 27,
     "metadata": {},
     "output_type": "execute_result"
    }
   ],
   "source": [
    "hvacmeter.df.head()"
   ]
  },
  {
   "cell_type": "code",
   "execution_count": 30,
   "metadata": {},
   "outputs": [],
   "source": [
    "x = hvacmeter.df[['Q_vav_cooling_power', 'Q_ahu_returned_power', 'C3']]\n",
    "y = hvacmeter.df['water_thermal_power']\n",
    "hvacmeter.model = sm.OLS(y, x).fit()"
   ]
  },
  {
   "cell_type": "code",
   "execution_count": 32,
   "metadata": {},
   "outputs": [
    {
     "data": {
      "image/png": "[encoded data removed]",
      "text/plain": [
       "<matplotlib.figure.Figure at 0x1b73b8c3160>"
      ]
     },
     "metadata": {},
     "output_type": "display_data"
    }
   ],
   "source": [
    "pred = hvacmeter.model.predict(hvacmeter.df[['Q_vav_cooling_power', 'Q_ahu_returned_power', 'C3']])"
   ]
  },
  {
   "cell_type": "code",
   "execution_count": 36,
   "metadata": {},
   "outputs": [
    {
     "data": {
      "image/png": "[encoded data removed]",
      "text/plain": [
       "<matplotlib.figure.Figure at 0x1b73a2b8fd0>"
      ]
     },
     "metadata": {},
     "output_type": "display_data"
    }
   ],
   "source": [
    "plt.plot(pred)\n",
    "plt.plot(hvacmeter.df['water_thermal_power'], li)\n",
    "plt.show()"
   ]
  },
  {
   "cell_type": "code",
   "execution_count": null,
   "metadata": {
    "collapsed": true
   },
   "outputs": [],
   "source": []
  }
 ],
 "metadata": {
  "kernelspec": {
   "display_name": "Python 3",
   "language": "python",
   "name": "python3"
  },
  "language_info": {
   "codemirror_mode": {
    "name": "ipython",
    "version": 3
   },
   "file_extension": ".py",
   "mimetype": "text/x-python",
   "name": "python",
   "nbconvert_exporter": "python",
   "pygments_lexer": "ipython3",
   "version": "3.6.1"
  }
 },
 "nbformat": 4,
 "nbformat_minor": 2
}
